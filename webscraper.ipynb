{
  "nbformat": 4,
  "nbformat_minor": 0,
  "metadata": {
    "colab": {
      "provenance": []
    },
    "kernelspec": {
      "name": "python3",
      "display_name": "Python 3"
    },
    "language_info": {
      "name": "python"
    }
  },
  "cells": [
    {
      "cell_type": "code",
      "execution_count": null,
      "metadata": {
        "id": "qhbOHXyKAEdP"
      },
      "outputs": [],
      "source": [
        "from selenium import webdriver\n",
        "from selenium.webdriver.common.by import By\n",
        "from selenium.webdriver.chrome.service import Service\n",
        "from selenium.webdriver.chrome.options import Options\n",
        "import pandas as pd\n",
        "import time\n",
        "\n",
        "# Initialize WebDriver\n",
        "chrome_options = Options()\n",
        "chrome_options.add_argument(\"--headless\")  # Run in headless mode\n",
        "service = Service('C:\\Users\\Samprita\\Downloads\\chromedriver.exe\n",
        "')\n",
        "driver = webdriver.Chrome(service=service, options=chrome_options)\n",
        "\n",
        "# Define the URL of the e-commerce website\n",
        "url = 'https://www.example.com/search?q=laptop'\n",
        "\n",
        "# Open the website\n",
        "driver.get(url)\n",
        "time.sleep(3)  # Allow the page to load\n",
        "\n",
        "# Extract product data\n",
        "products = []\n",
        "product_elements = driver.find_elements(By.CSS_SELECTOR, '.product-class')  # Update with the correct CSS selector\n",
        "\n",
        "for product in product_elements:\n",
        "    name = product.find_element(By.XPATH, './/h2[@class=\"product-title\"]').text\n",
        "    price = product.find_element(By.XPATH, './/span[@class=\"product-price\"]').text\n",
        "    link = product.find_element(By.XPATH, './/a[@class=\"product-link\"]').get_attribute('href')\n",
        "\n",
        "    products.append({\n",
        "        'Name': name,\n",
        "        'Price': price,\n",
        "        'Link': link\n",
        "    })\n",
        "\n",
        "# Close the WebDriver\n",
        "driver.quit()\n",
        "\n",
        "# Create a DataFrame and save to Excel\n",
        "df = pd.DataFrame(products)\n",
        "df.to_excel('products.xlsx', index=False)\n",
        "\n",
        "print(\"Data saved to products.xlsx\")\n"
      ]
    }
  ]
}